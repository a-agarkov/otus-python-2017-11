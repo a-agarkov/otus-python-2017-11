{
 "cells": [
  {
   "cell_type": "markdown",
   "metadata": {
    "collapsed": false
   },
   "source": [
    "# #1. Advanced basics"
   ]
  },
  {
   "cell_type": "markdown",
   "metadata": {
    "slideshow": {
     "slide_type": "skip"
    }
   },
   "source": [
    "1. [Unicode](#Unicode)\n",
    "    1. [ASCII](#ASCII)\n",
    "    2. [Code pages](#Code-pages)\n",
    "    3. [Unicode structure](#Unicode-structure)\n",
    "    4. [UTF-8](#UTF-8)\n",
    "    5. [Python unicode](#Python-unicode)\n",
    "        1. [Source code literals](#Source-code-literals)\n",
    "        2. [str and unicode](#str-and-unicode)\n",
    "        3. [Coercion](#Coercion)\n",
    "        4. [codecs](#codecs)\n",
    "        5. [Filenames](#Filenames)\n",
    "        6. [unicodedata](#unicodedata)\n",
    "2. [Floating point numbers](#Floating-point-numbers)\n",
    "    1. [Leaky abstraction](#Leaky-abstraction)\n",
    "    2. [IEEE-754](#IEEE-754)\n",
    "    3. [Error accumulation](#Error-accumulation)\n",
    "    4. [Rounding error](#Rounding-error)\n",
    "    5. [Equality Test](#Equality-Test)\n",
    "    6. [Subtraction](#Subtraction)\n",
    "    7. [Finite range](#Finite-range)\n",
    "    8. [Decimal](#Decimal)\n",
    "    9. [NaN and Infinity](#NaN-and-Infinity)\n",
    "3. [Itertools](#Itertools)\n",
    "    1. [Iterable](#Iterable)\n",
    "        1. [Iterator](#Iterator)\n",
    "        2. [Iterator protocol](#Iterator-protocol)\n",
    "        3. [Sequence protocol](#Sequence-protocol)\n",
    "    2. [Generator](#Generator)\n",
    "        1. [Expressions](#Expressions)\n",
    "        2. [Pipelines](#Pipelines)\n",
    "        3. [Coroutines](#Coroutines)\n",
    "    3. [Itertools review](#Itertools-review)\n",
    "4. [Functional programming](#Functional-programming)\n",
    "    1. [Origins](#Origins)\n",
    "    2. [Recursion](#Recursion)\n",
    "        1. [Visualization](#Visualization)\n",
    "        2. [Limitations](#Limitations)\n",
    "        3. [TCO](#TCO)\n",
    "    3. [Closures](#Closures)\n",
    "        1. [LEGB](#LEGB)\n",
    "        2. [Closures](#Closures)\n",
    "        3. [Late binding](#Late-binding)\n",
    "5. [Decorators](#Decorators)\n",
    "    1. [Passing arguments](#Passing-arguments)\n",
    "    2. [Decorator class](#Decorator-class)\n",
    "    3. [Standard decorators](#Standard-decorators)\n",
    "    4. [Decorator with arguments](#Decorator-with-arguments)\n",
    "    5. [Multiple decorators](#Multiple-decorators)\n",
    "    6. [functools](#functools)\n"
   ]
  },
  {
   "cell_type": "markdown",
   "metadata": {
    "collapsed": true,
    "slideshow": {
     "slide_type": "slide"
    }
   },
   "source": [
    "## Unicode"
   ]
  },
  {
   "cell_type": "code",
   "execution_count": 1,
   "metadata": {
    "collapsed": false
   },
   "outputs": [
    {
     "ename": "UnicodeDecodeError",
     "evalue": "'ascii' codec can't decode byte 0xd0 in position 0: ordinal not in range(128)",
     "output_type": "error",
     "traceback": [
      "\u001b[0;31m---------------------------------------------------------------------------\u001b[0m",
      "\u001b[0;31mUnicodeDecodeError\u001b[0m                        Traceback (most recent call last)",
      "\u001b[0;32m<ipython-input-1-c28d2cfa3ce4>\u001b[0m in \u001b[0;36m<module>\u001b[0;34m()\u001b[0m\n\u001b[0;32m----> 1\u001b[0;31m \u001b[0;34mu\"Привет, \"\u001b[0m \u001b[0;34m+\u001b[0m \u001b[0;34m\"Отус!\"\u001b[0m\u001b[0;34m\u001b[0m\u001b[0m\n\u001b[0m",
      "\u001b[0;31mUnicodeDecodeError\u001b[0m: 'ascii' codec can't decode byte 0xd0 in position 0: ordinal not in range(128)"
     ]
    }
   ],
   "source": [
    "u\"Привет, \" + \"Отус!\""
   ]
  },
  {
   "cell_type": "markdown",
   "metadata": {
    "collapsed": false
   },
   "source": [
    "#### ASCII"
   ]
  },
  {
   "cell_type": "markdown",
   "metadata": {},
   "source": [
    "* Все на свете - байты. Нужно договорится о представлении символов естественного языка в бинарном виде"
   ]
  },
  {
   "cell_type": "markdown",
   "metadata": {},
   "source": [
    "![Title](http://www.asciicharstable.com/_site_media/ascii/ascii-chars-table-landscape.jpg)"
   ]
  },
  {
   "cell_type": "markdown",
   "metadata": {},
   "source": [
    "* В один байт можно уместить целых 256 символов!\n",
    "* Проблема: в природе их встречается гораздо больше"
   ]
  },
  {
   "cell_type": "markdown",
   "metadata": {
    "collapsed": true
   },
   "source": [
    "#### Code pages"
   ]
  },
  {
   "cell_type": "markdown",
   "metadata": {},
   "source": [
    "* Решение (нет): притворимся, что 256 символов достаточно\n",
    "* Резльтат: ISO 8859-1 до ISO 8859-16, cp850, cp1251, cp1252 и т.д., EBCDIC, APL ..."
   ]
  },
  {
   "cell_type": "markdown",
   "metadata": {},
   "source": [
    "Windows-1251\n",
    "![Title](https://www.charset.org/img/charsets/windows-1251.gif)"
   ]
  },
  {
   "cell_type": "markdown",
   "metadata": {},
   "source": [
    "Windows-1252\n",
    "![Title](https://www.microsoft.com/typography/unicode/1252.gif)"
   ]
  },
  {
   "cell_type": "markdown",
   "metadata": {},
   "source": [
    "* Решение (нет): использовать 2 байта на символ\n",
    "* Результат: Shift-JIS, GB2313, Big5, т.д."
   ]
  },
  {
   "cell_type": "markdown",
   "metadata": {},
   "source": [
    "![Standarts](https://imgs.xkcd.com/comics/standards.png)"
   ]
  },
  {
   "cell_type": "markdown",
   "metadata": {},
   "source": [
    "#### Unicode"
   ]
  },
  {
   "cell_type": "markdown",
   "metadata": {},
   "source": [
    "Миф: Unicode это 16-битовая кодировка, в ней возможно представить 65536 символов"
   ]
  },
  {
   "cell_type": "markdown",
   "metadata": {},
   "source": [
    "* Структура:\n",
    "    1. Character: Cyrillic Capital Letter Ya\n",
    "    2. Glyph: Я\n",
    "    3. Code point: U+042F\n",
    "    4. Encodings: UTF-8, UTF-16, UTF-7, UCS-4 и т.д.\n",
    "\n",
    "\n",
    "* 1.1 млн. code point'ов, 110к назначено "
   ]
  },
  {
   "cell_type": "markdown",
   "metadata": {},
   "source": [
    "UCS-2 | UTF-16\n",
    "* Изначально действительно каждый символ хранился в 2 байтах\n",
    "    * Hello -> U+0048 U+0065 U+006C U+006C U+006F\n",
    "    * 00 48 00 65 00 6C 00 6C 00 6F или 48 00 65 00 6C 00 6C 00 6F 00 ?\n",
    "* Unicode Byte Order Mark: FE FF\n",
    "* Недостатки\n",
    "    * избыточно\n",
    "    * обратно несовместимо с ASCII"
   ]
  },
  {
   "cell_type": "markdown",
   "metadata": {},
   "source": [
    "![Unicode](https://imgs.xkcd.com/comics/unicode.png)"
   ]
  },
  {
   "cell_type": "markdown",
   "metadata": {},
   "source": [
    "#### UTF-8"
   ]
  },
  {
   "cell_type": "markdown",
   "metadata": {},
   "source": [
    "* Каждый code point от 0 до 127 хранится в 1 байте\n",
    "* code point старше 127 хранятся в 2, 3, 4, 5, 6 байтах\n",
    "* Совместимо с ASCII"
   ]
  },
  {
   "cell_type": "markdown",
   "metadata": {},
   "source": [
    "#### Python's Unicode"
   ]
  },
  {
   "cell_type": "code",
   "execution_count": 2,
   "metadata": {
    "collapsed": true
   },
   "outputs": [],
   "source": [
    "import os"
   ]
  },
  {
   "cell_type": "markdown",
   "metadata": {},
   "source": [
    "#### Source code literals"
   ]
  },
  {
   "cell_type": "code",
   "execution_count": 3,
   "metadata": {
    "collapsed": false
   },
   "outputs": [
    {
     "name": "stdout",
     "output_type": "stream",
     "text": [
      "ÿ€耀\n"
     ]
    }
   ],
   "source": [
    "print u\"\\xff\\u20ac\\U00008000\""
   ]
  },
  {
   "cell_type": "code",
   "execution_count": 4,
   "metadata": {
    "collapsed": true
   },
   "outputs": [],
   "source": [
    "# -*- coding: utf-8 -*-"
   ]
  },
  {
   "cell_type": "markdown",
   "metadata": {},
   "source": [
    "#### str and unicode"
   ]
  },
  {
   "cell_type": "markdown",
   "metadata": {},
   "source": [
    "* str - последовательность байт, байтовая строка\n",
    "* unicode - последовательность code point'ов"
   ]
  },
  {
   "cell_type": "code",
   "execution_count": 5,
   "metadata": {
    "collapsed": false
   },
   "outputs": [
    {
     "name": "stdout",
     "output_type": "stream",
     "text": [
      "<type 'str'>\n",
      "<type 'unicode'>\n"
     ]
    }
   ],
   "source": [
    "byte_string = \"Hello world\"\n",
    "print type(byte_string)\n",
    "\n",
    "unicode_string = u\"Hello \\u2119\\u01b4\\u2602\\u210c\\xf8\\u1f24\"\n",
    "print type(unicode_string)"
   ]
  },
  {
   "cell_type": "markdown",
   "metadata": {},
   "source": [
    "* unicode .encode -> bytes\n",
    "* bytes   .decode -> unicode"
   ]
  },
  {
   "cell_type": "code",
   "execution_count": 6,
   "metadata": {
    "collapsed": false
   },
   "outputs": [
    {
     "name": "stdout",
     "output_type": "stream",
     "text": [
      "12 u'Hello \\u2119\\u01b4\\u2602\\u210c\\xf8\\u1f24'\n",
      "22 'Hello \\xe2\\x84\\x99\\xc6\\xb4\\xe2\\x98\\x82\\xe2\\x84\\x8c\\xc3\\xb8\\xe1\\xbc\\xa4'\n",
      "u'Hello \\u2119\\u01b4\\u2602\\u210c\\xf8\\u1f24'\n"
     ]
    }
   ],
   "source": [
    "unicode_string = u\"Hello \\u2119\\u01b4\\u2602\\u210c\\xf8\\u1f24\"\n",
    "print len(unicode_string), repr(unicode_string)\n",
    "\n",
    "utf8_string = unicode_string.encode(\"utf-8\")\n",
    "print len(utf8_string), repr(utf8_string)\n",
    "print repr(utf8_string.decode(\"utf-8\"))"
   ]
  },
  {
   "cell_type": "code",
   "execution_count": 7,
   "metadata": {
    "collapsed": false
   },
   "outputs": [
    {
     "ename": "UnicodeEncodeError",
     "evalue": "'ascii' codec can't encode characters in position 6-11: ordinal not in range(128)",
     "output_type": "error",
     "traceback": [
      "\u001b[0;31m---------------------------------------------------------------------------\u001b[0m",
      "\u001b[0;31mUnicodeEncodeError\u001b[0m                        Traceback (most recent call last)",
      "\u001b[0;32m<ipython-input-7-f3605e83943e>\u001b[0m in \u001b[0;36m<module>\u001b[0;34m()\u001b[0m\n\u001b[0;32m----> 1\u001b[0;31m \u001b[0municode_string\u001b[0m\u001b[0;34m.\u001b[0m\u001b[0mencode\u001b[0m\u001b[0;34m(\u001b[0m\u001b[0;34m\"ascii\"\u001b[0m\u001b[0;34m)\u001b[0m\u001b[0;34m\u001b[0m\u001b[0m\n\u001b[0m",
      "\u001b[0;31mUnicodeEncodeError\u001b[0m: 'ascii' codec can't encode characters in position 6-11: ordinal not in range(128)"
     ]
    }
   ],
   "source": [
    "unicode_string.encode(\"ascii\")"
   ]
  },
  {
   "cell_type": "code",
   "execution_count": 8,
   "metadata": {
    "collapsed": false
   },
   "outputs": [
    {
     "ename": "UnicodeDecodeError",
     "evalue": "'ascii' codec can't decode byte 0xe2 in position 6: ordinal not in range(128)",
     "output_type": "error",
     "traceback": [
      "\u001b[0;31m---------------------------------------------------------------------------\u001b[0m",
      "\u001b[0;31mUnicodeDecodeError\u001b[0m                        Traceback (most recent call last)",
      "\u001b[0;32m<ipython-input-8-a2827eaafeea>\u001b[0m in \u001b[0;36m<module>\u001b[0;34m()\u001b[0m\n\u001b[0;32m----> 1\u001b[0;31m \u001b[0mutf8_string\u001b[0m\u001b[0;34m.\u001b[0m\u001b[0mdecode\u001b[0m\u001b[0;34m(\u001b[0m\u001b[0;34m)\u001b[0m\u001b[0;34m\u001b[0m\u001b[0m\n\u001b[0m",
      "\u001b[0;31mUnicodeDecodeError\u001b[0m: 'ascii' codec can't decode byte 0xe2 in position 6: ordinal not in range(128)"
     ]
    }
   ],
   "source": [
    "utf8_string.decode()"
   ]
  },
  {
   "cell_type": "code",
   "execution_count": 9,
   "metadata": {
    "collapsed": false
   },
   "outputs": [
    {
     "ename": "UnicodeDecodeError",
     "evalue": "'utf8' codec can't decode byte 0x9a in position 1: invalid start byte",
     "output_type": "error",
     "traceback": [
      "\u001b[0;31m---------------------------------------------------------------------------\u001b[0m",
      "\u001b[0;31mUnicodeDecodeError\u001b[0m                        Traceback (most recent call last)",
      "\u001b[0;32m<ipython-input-9-bd03fc23a1f5>\u001b[0m in \u001b[0;36m<module>\u001b[0;34m()\u001b[0m\n\u001b[0;32m----> 1\u001b[0;31m \u001b[0;34m\"\\x78\\x9a\\xbc\\xde\\xf0\"\u001b[0m\u001b[0;34m.\u001b[0m\u001b[0mdecode\u001b[0m\u001b[0;34m(\u001b[0m\u001b[0;34m\"utf-8\"\u001b[0m\u001b[0;34m)\u001b[0m\u001b[0;34m\u001b[0m\u001b[0m\n\u001b[0m",
      "\u001b[0;32m/System/Library/Frameworks/Python.framework/Versions/2.7/lib/python2.7/encodings/utf_8.pyc\u001b[0m in \u001b[0;36mdecode\u001b[0;34m(input, errors)\u001b[0m\n\u001b[1;32m     14\u001b[0m \u001b[0;34m\u001b[0m\u001b[0m\n\u001b[1;32m     15\u001b[0m \u001b[0;32mdef\u001b[0m \u001b[0mdecode\u001b[0m\u001b[0;34m(\u001b[0m\u001b[0minput\u001b[0m\u001b[0;34m,\u001b[0m \u001b[0merrors\u001b[0m\u001b[0;34m=\u001b[0m\u001b[0;34m'strict'\u001b[0m\u001b[0;34m)\u001b[0m\u001b[0;34m:\u001b[0m\u001b[0;34m\u001b[0m\u001b[0m\n\u001b[0;32m---> 16\u001b[0;31m     \u001b[0;32mreturn\u001b[0m \u001b[0mcodecs\u001b[0m\u001b[0;34m.\u001b[0m\u001b[0mutf_8_decode\u001b[0m\u001b[0;34m(\u001b[0m\u001b[0minput\u001b[0m\u001b[0;34m,\u001b[0m \u001b[0merrors\u001b[0m\u001b[0;34m,\u001b[0m \u001b[0mTrue\u001b[0m\u001b[0;34m)\u001b[0m\u001b[0;34m\u001b[0m\u001b[0m\n\u001b[0m\u001b[1;32m     17\u001b[0m \u001b[0;34m\u001b[0m\u001b[0m\n\u001b[1;32m     18\u001b[0m \u001b[0;32mclass\u001b[0m \u001b[0mIncrementalEncoder\u001b[0m\u001b[0;34m(\u001b[0m\u001b[0mcodecs\u001b[0m\u001b[0;34m.\u001b[0m\u001b[0mIncrementalEncoder\u001b[0m\u001b[0;34m)\u001b[0m\u001b[0;34m:\u001b[0m\u001b[0;34m\u001b[0m\u001b[0m\n",
      "\u001b[0;31mUnicodeDecodeError\u001b[0m: 'utf8' codec can't decode byte 0x9a in position 1: invalid start byte"
     ]
    }
   ],
   "source": [
    "\"\\x78\\x9a\\xbc\\xde\\xf0\".decode(\"utf-8\")"
   ]
  },
  {
   "cell_type": "code",
   "execution_count": 10,
   "metadata": {
    "collapsed": false
   },
   "outputs": [
    {
     "name": "stdout",
     "output_type": "stream",
     "text": [
      "Hello ??????\n",
      "Hello &#8473;&#436;&#9730;&#8460;&#248;&#7972;\n",
      "Hello \n"
     ]
    }
   ],
   "source": [
    "print unicode_string.encode(\"ascii\", \"replace\")\n",
    "print unicode_string.encode(\"ascii\", \"xmlcharrefreplace\")\n",
    "print unicode_string.encode(\"ascii\", \"ignore\")"
   ]
  },
  {
   "cell_type": "code",
   "execution_count": 11,
   "metadata": {
    "collapsed": false
   },
   "outputs": [
    {
     "name": "stdout",
     "output_type": "stream",
     "text": [
      "Hello ����������������\n",
      "Hello \n"
     ]
    }
   ],
   "source": [
    "print utf8_string.decode(\"ascii\", \"replace\")\n",
    "print utf8_string.decode(\"ascii\", \"ignore\")"
   ]
  },
  {
   "cell_type": "markdown",
   "metadata": {},
   "source": [
    "#### Coercion"
   ]
  },
  {
   "cell_type": "code",
   "execution_count": 12,
   "metadata": {
    "collapsed": false
   },
   "outputs": [
    {
     "name": "stdout",
     "output_type": "stream",
     "text": [
      "ascii\n"
     ]
    }
   ],
   "source": [
    "import sys\n",
    "print sys.getdefaultencoding()"
   ]
  },
  {
   "cell_type": "code",
   "execution_count": 13,
   "metadata": {
    "collapsed": false
   },
   "outputs": [
    {
     "data": {
      "text/plain": [
       "u'Hello Otus'"
      ]
     },
     "execution_count": 13,
     "metadata": {},
     "output_type": "execute_result"
    }
   ],
   "source": [
    "u\"Hello\" + \" Otus\""
   ]
  },
  {
   "cell_type": "code",
   "execution_count": 14,
   "metadata": {
    "collapsed": false
   },
   "outputs": [
    {
     "data": {
      "text/plain": [
       "u'Hello Otus'"
      ]
     },
     "execution_count": 14,
     "metadata": {},
     "output_type": "execute_result"
    }
   ],
   "source": [
    "u\"Hello\" + \" Otus\".decode(\"ascii\")"
   ]
  },
  {
   "cell_type": "code",
   "execution_count": 15,
   "metadata": {
    "collapsed": false
   },
   "outputs": [
    {
     "ename": "UnicodeDecodeError",
     "evalue": "'ascii' codec can't decode byte 0xd0 in position 0: ordinal not in range(128)",
     "output_type": "error",
     "traceback": [
      "\u001b[0;31m---------------------------------------------------------------------------\u001b[0m",
      "\u001b[0;31mUnicodeDecodeError\u001b[0m                        Traceback (most recent call last)",
      "\u001b[0;32m<ipython-input-15-f504e8547f48>\u001b[0m in \u001b[0;36m<module>\u001b[0;34m()\u001b[0m\n\u001b[1;32m      1\u001b[0m \u001b[0mutf8_string\u001b[0m \u001b[0;34m=\u001b[0m \u001b[0;34mu\"Отус!\"\u001b[0m\u001b[0;34m.\u001b[0m\u001b[0mencode\u001b[0m\u001b[0;34m(\u001b[0m\u001b[0;34m\"utf-8\"\u001b[0m\u001b[0;34m)\u001b[0m\u001b[0;34m\u001b[0m\u001b[0m\n\u001b[0;32m----> 2\u001b[0;31m \u001b[0;34mu\" Hello \"\u001b[0m \u001b[0;34m+\u001b[0m  \u001b[0mutf8_string\u001b[0m\u001b[0;34m\u001b[0m\u001b[0m\n\u001b[0m",
      "\u001b[0;31mUnicodeDecodeError\u001b[0m: 'ascii' codec can't decode byte 0xd0 in position 0: ordinal not in range(128)"
     ]
    }
   ],
   "source": [
    "utf8_string = u\"Отус!\".encode(\"utf-8\")\n",
    "u\" Hello \" +  utf8_string"
   ]
  },
  {
   "cell_type": "code",
   "execution_count": 16,
   "metadata": {
    "collapsed": false
   },
   "outputs": [
    {
     "ename": "UnicodeDecodeError",
     "evalue": "'ascii' codec can't decode byte 0xd0 in position 0: ordinal not in range(128)",
     "output_type": "error",
     "traceback": [
      "\u001b[0;31m---------------------------------------------------------------------------\u001b[0m",
      "\u001b[0;31mUnicodeDecodeError\u001b[0m                        Traceback (most recent call last)",
      "\u001b[0;32m<ipython-input-16-55e33bd3e7f2>\u001b[0m in \u001b[0;36m<module>\u001b[0;34m()\u001b[0m\n\u001b[0;32m----> 1\u001b[0;31m \u001b[0;34mu\" Hello \"\u001b[0m \u001b[0;34m+\u001b[0m  \u001b[0mutf8_string\u001b[0m\u001b[0;34m.\u001b[0m\u001b[0mdecode\u001b[0m\u001b[0;34m(\u001b[0m\u001b[0;34m\"ascii\"\u001b[0m\u001b[0;34m)\u001b[0m\u001b[0;34m\u001b[0m\u001b[0m\n\u001b[0m",
      "\u001b[0;31mUnicodeDecodeError\u001b[0m: 'ascii' codec can't decode byte 0xd0 in position 0: ordinal not in range(128)"
     ]
    }
   ],
   "source": [
    "u\" Hello \" +  utf8_string.decode(\"ascii\")"
   ]
  },
  {
   "cell_type": "code",
   "execution_count": 17,
   "metadata": {
    "collapsed": false
   },
   "outputs": [
    {
     "name": "stdout",
     "output_type": "stream",
     "text": [
      "u'Title: \\u041e\\u0442\\u0443\\u0441'\n",
      "u'Title: Otus'\n"
     ]
    }
   ],
   "source": [
    "unicode_string = u\"Отус\"\n",
    "byte_string = \"Otus\"\n",
    "\n",
    "print repr(\"Title: %s\" % unicode_string)\n",
    "print repr(u\"Title: %s\" % byte_string)"
   ]
  },
  {
   "cell_type": "code",
   "execution_count": 18,
   "metadata": {
    "collapsed": false
   },
   "outputs": [
    {
     "ename": "UnicodeDecodeError",
     "evalue": "'ascii' codec can't decode byte 0xd0 in position 0: ordinal not in range(128)",
     "output_type": "error",
     "traceback": [
      "\u001b[0;31m---------------------------------------------------------------------------\u001b[0m",
      "\u001b[0;31mUnicodeDecodeError\u001b[0m                        Traceback (most recent call last)",
      "\u001b[0;32m<ipython-input-18-bbef3c28bb91>\u001b[0m in \u001b[0;36m<module>\u001b[0;34m()\u001b[0m\n\u001b[1;32m      1\u001b[0m \u001b[0mutf8_string\u001b[0m \u001b[0;34m=\u001b[0m \u001b[0;34mu\"Отус\"\u001b[0m\u001b[0;34m.\u001b[0m\u001b[0mencode\u001b[0m\u001b[0;34m(\u001b[0m\u001b[0;34m\"utf-8\"\u001b[0m\u001b[0;34m)\u001b[0m\u001b[0;34m\u001b[0m\u001b[0m\n\u001b[0;32m----> 2\u001b[0;31m \u001b[0;32mprint\u001b[0m \u001b[0mutf8_string\u001b[0m\u001b[0;34m.\u001b[0m\u001b[0mencode\u001b[0m\u001b[0;34m(\u001b[0m\u001b[0;34m\"utf-8\"\u001b[0m\u001b[0;34m)\u001b[0m\u001b[0;34m\u001b[0m\u001b[0m\n\u001b[0m",
      "\u001b[0;31mUnicodeDecodeError\u001b[0m: 'ascii' codec can't decode byte 0xd0 in position 0: ordinal not in range(128)"
     ]
    }
   ],
   "source": [
    "utf8_string = u\"Отус\".encode(\"utf-8\")\n",
    "print utf8_string.encode(\"utf-8\")"
   ]
  },
  {
   "cell_type": "code",
   "execution_count": 19,
   "metadata": {
    "collapsed": false
   },
   "outputs": [
    {
     "data": {
      "text/plain": [
       "'Otus'"
      ]
     },
     "execution_count": 19,
     "metadata": {},
     "output_type": "execute_result"
    }
   ],
   "source": [
    "byte_string.encode(\"utf-8\")"
   ]
  },
  {
   "cell_type": "code",
   "execution_count": 20,
   "metadata": {
    "collapsed": false,
    "scrolled": true
   },
   "outputs": [
    {
     "ename": "UnicodeEncodeError",
     "evalue": "'ascii' codec can't encode characters in position 0-3: ordinal not in range(128)",
     "output_type": "error",
     "traceback": [
      "\u001b[0;31m---------------------------------------------------------------------------\u001b[0m",
      "\u001b[0;31mUnicodeEncodeError\u001b[0m                        Traceback (most recent call last)",
      "\u001b[0;32m<ipython-input-20-e5f6ff5d2173>\u001b[0m in \u001b[0;36m<module>\u001b[0;34m()\u001b[0m\n\u001b[1;32m      1\u001b[0m \u001b[0mfn\u001b[0m \u001b[0;34m=\u001b[0m \u001b[0;34m\"tmp.txt\"\u001b[0m\u001b[0;34m\u001b[0m\u001b[0m\n\u001b[1;32m      2\u001b[0m \u001b[0;32mwith\u001b[0m \u001b[0mopen\u001b[0m\u001b[0;34m(\u001b[0m\u001b[0mfn\u001b[0m\u001b[0;34m,\u001b[0m \u001b[0;34m\"w\"\u001b[0m\u001b[0;34m)\u001b[0m \u001b[0;32mas\u001b[0m \u001b[0mfp\u001b[0m\u001b[0;34m:\u001b[0m\u001b[0;34m\u001b[0m\u001b[0m\n\u001b[0;32m----> 3\u001b[0;31m     \u001b[0mfp\u001b[0m\u001b[0;34m.\u001b[0m\u001b[0mwrite\u001b[0m\u001b[0;34m(\u001b[0m\u001b[0municode_string\u001b[0m\u001b[0;34m)\u001b[0m\u001b[0;34m\u001b[0m\u001b[0m\n\u001b[0m",
      "\u001b[0;31mUnicodeEncodeError\u001b[0m: 'ascii' codec can't encode characters in position 0-3: ordinal not in range(128)"
     ]
    }
   ],
   "source": [
    "fn = \"tmp.txt\"\n",
    "with open(fn, \"w\") as fp:\n",
    "    fp.write(unicode_string)"
   ]
  },
  {
   "cell_type": "code",
   "execution_count": 21,
   "metadata": {
    "collapsed": true
   },
   "outputs": [],
   "source": [
    "os.remove(fn)"
   ]
  },
  {
   "cell_type": "markdown",
   "metadata": {},
   "source": [
    "#### codecs"
   ]
  },
  {
   "cell_type": "code",
   "execution_count": 22,
   "metadata": {
    "collapsed": false
   },
   "outputs": [
    {
     "name": "stdout",
     "output_type": "stream",
     "text": [
      "u'\\u4500'\n"
     ]
    }
   ],
   "source": [
    "import codecs\n",
    "f = codecs.open('test', encoding='utf-8', mode='w+')\n",
    "f.write(u'\\u4500 blah blah blah\\n')\n",
    "f.seek(0)\n",
    "print repr(f.readline()[:1])\n",
    "f.close()\n",
    "os.remove(\"test\")"
   ]
  },
  {
   "cell_type": "markdown",
   "metadata": {},
   "source": [
    "#### Filenames"
   ]
  },
  {
   "cell_type": "code",
   "execution_count": 23,
   "metadata": {
    "collapsed": false
   },
   "outputs": [
    {
     "name": "stdout",
     "output_type": "stream",
     "text": [
      "posix.stat_result(st_mode=33188, st_ino=256457992, st_dev=16777220, st_nlink=1, st_uid=502, st_gid=20, st_size=0, st_atime=1499449844, st_mtime=1499449844, st_ctime=1499449844)\n"
     ]
    }
   ],
   "source": [
    "fn = u'filename\\u4500abc'\n",
    "f = open(fn, 'w')\n",
    "f.close()\n",
    "print os.stat(fn)"
   ]
  },
  {
   "cell_type": "code",
   "execution_count": 24,
   "metadata": {
    "collapsed": false
   },
   "outputs": [
    {
     "name": "stdout",
     "output_type": "stream",
     "text": [
      "['.DS_Store', '.ipynb_checkpoints', 'deco.py', 'filename\\xe4\\x94\\x80abc', 'lection1_notes.ipynb', 'log_analyzer.py', 'nginx-access-ui.log-20170630.gz', 'poker.py', 'report-2017.06.30.html', 'report.html']\n",
      "[u'.DS_Store', u'.ipynb_checkpoints', u'deco.py', u'filename\\u4500abc', u'lection1_notes.ipynb', u'log_analyzer.py', u'nginx-access-ui.log-20170630.gz', u'poker.py', u'report-2017.06.30.html', u'report.html']\n"
     ]
    }
   ],
   "source": [
    "print os.listdir('.')\n",
    "print os.listdir(u'.')\n",
    "os.remove(fn) # cleanup"
   ]
  },
  {
   "cell_type": "markdown",
   "metadata": {},
   "source": [
    "#### unicodedata"
   ]
  },
  {
   "cell_type": "code",
   "execution_count": 25,
   "metadata": {
    "collapsed": false
   },
   "outputs": [
    {
     "name": "stdout",
     "output_type": "stream",
     "text": [
      "0 00e9 Ll LATIN SMALL LETTER E WITH ACUTE\n",
      "1 0bf2 No TAMIL NUMBER ONE THOUSAND\n",
      "2 0f84 Mn TIBETAN MARK HALANTA\n",
      "3 1770 Lo TAGBANWA LETTER SA\n",
      "4 33af So SQUARE RAD OVER S SQUARED\n",
      "1000.0\n"
     ]
    }
   ],
   "source": [
    "import unicodedata\n",
    "\n",
    "u = unichr(233) + unichr(0x0bf2) + unichr(3972) + unichr(6000) + unichr(13231)\n",
    "\n",
    "for i, c in enumerate(u):\n",
    "    print i, '%04x' % ord(c), unicodedata.category(c),\n",
    "    print unicodedata.name(c)\n",
    "\n",
    "print unicodedata.numeric(u[1])"
   ]
  },
  {
   "cell_type": "markdown",
   "metadata": {},
   "source": [
    "### Summary"
   ]
  },
  {
   "cell_type": "markdown",
   "metadata": {},
   "source": [
    "* Код должен внутри работать с unicode'ом, а на входе/выходе должен декодировать/кодирать определенный формат\n",
    "* Включать в тесты символы > 127\n",
    "* Не существует такой вещи, как plain text. Нужно знать кодировку\n",
    "* В Python 2.x str - это байтовая строка, а unicode - это последовательность codepoint'ов\n",
    "* Python 2.x осуществляют перекодировку неявно в некоторых случаях"
   ]
  },
  {
   "cell_type": "markdown",
   "metadata": {},
   "source": [
    "### References"
   ]
  },
  {
   "cell_type": "markdown",
   "metadata": {},
   "source": [
    "* https://www.joelonsoftware.com/2003/10/08/the-absolute-minimum-every-software-developer-absolutely-positively-must-know-about-unicode-and-character-sets-no-excuses/\n",
    "* https://docs.python.org/2/howto/unicode.html\n",
    "* https://habrahabr.ru/post/135913/\n",
    "* https://us.pycon.org/2013/schedule/presentation/45/\n",
    "* https://shkspr.mobi/blog/2017/05/unicode-is-hard/"
   ]
  },
  {
   "cell_type": "markdown",
   "metadata": {},
   "source": [
    "## Floating point numbers"
   ]
  },
  {
   "cell_type": "markdown",
   "metadata": {},
   "source": [
    "#### Leaky abstraction"
   ]
  },
  {
   "cell_type": "markdown",
   "metadata": {},
   "source": [
    "* вещестевенные числа бесконечны, в отличие от компьютерной памяти\n",
    "* вычитание\n",
    "* overflow underflow"
   ]
  },
  {
   "cell_type": "code",
   "execution_count": 26,
   "metadata": {
    "collapsed": false
   },
   "outputs": [
    {
     "data": {
      "text/plain": [
       "0.30000000000000004"
      ]
     },
     "execution_count": 26,
     "metadata": {},
     "output_type": "execute_result"
    }
   ],
   "source": [
    "0.1 + 0.2"
   ]
  },
  {
   "cell_type": "markdown",
   "metadata": {},
   "source": [
    "1/8\n",
    "    * 0.125 = 1/10 + 2/100 + 5/1000\n",
    "    * 0.01 = 0/2 + 0/4 + 1/8\n",
    "\n",
    "1/3 в десятичном виде?\n",
    "1/10 в двоичном виде?"
   ]
  },
  {
   "cell_type": "markdown",
   "metadata": {},
   "source": [
    "#### IEEE-754"
   ]
  },
  {
   "cell_type": "markdown",
   "metadata": {},
   "source": [
    "![float](https://upload.wikimedia.org/wikipedia/commons/thumb/e/e8/IEEE_754_Single_Floating_Point_Format.svg/618px-IEEE_754_Single_Floating_Point_Format.svg.png)"
   ]
  },
  {
   "cell_type": "markdown",
   "metadata": {},
   "source": [
    "![double](https://upload.wikimedia.org/wikipedia/commons/thumb/a/a9/IEEE_754_Double_Floating_Point_Format.svg/618px-IEEE_754_Double_Floating_Point_Format.svg.png)"
   ]
  },
  {
   "cell_type": "markdown",
   "metadata": {},
   "source": [
    "#### Error accumulation"
   ]
  },
  {
   "cell_type": "code",
   "execution_count": 27,
   "metadata": {
    "collapsed": false
   },
   "outputs": [
    {
     "data": {
      "text/plain": [
       "0.9999999999999999"
      ]
     },
     "execution_count": 27,
     "metadata": {},
     "output_type": "execute_result"
    }
   ],
   "source": [
    "s = 0.0\n",
    "for i in range(10):\n",
    "    s += 0.1\n",
    "s"
   ]
  },
  {
   "cell_type": "markdown",
   "metadata": {},
   "source": [
    "#### Rounding error"
   ]
  },
  {
   "cell_type": "code",
   "execution_count": 28,
   "metadata": {
    "collapsed": false
   },
   "outputs": [
    {
     "data": {
      "text/plain": [
       "2.67"
      ]
     },
     "execution_count": 28,
     "metadata": {},
     "output_type": "execute_result"
    }
   ],
   "source": [
    "round(2.675, 2)"
   ]
  },
  {
   "cell_type": "markdown",
   "metadata": {},
   "source": [
    "#### Equality Test"
   ]
  },
  {
   "cell_type": "code",
   "execution_count": 29,
   "metadata": {
    "collapsed": false
   },
   "outputs": [
    {
     "name": "stdout",
     "output_type": "stream",
     "text": [
      "NR method.  Num. iterations: 5 Estimate: 1.41421356237\n"
     ]
    },
    {
     "data": {
      "text/plain": [
       "1.4142135623746899"
      ]
     },
     "execution_count": 29,
     "metadata": {},
     "output_type": "execute_result"
    }
   ],
   "source": [
    "def square_root_NR(x, epsilon):\n",
    "    \"\"\"Assumes x >= 0 and epsilon > 0. Return y s.t. y*y is within epsilon of x\"\"\"\n",
    "    assert x >= 0, 'x must be non-negative, not %s' % x\n",
    "    assert epsilon > 0, 'epsilon must be positive, not %s' % epsilon\n",
    "    x = float(x)\n",
    "    guess = x / 2.0\n",
    "    diff = guess**2 - x\n",
    "    ctr = 1\n",
    "    # cannot use guess**2 == x\n",
    "    while abs(diff) > epsilon and ctr <= 100:\n",
    "        guess = guess - diff / (2.0 * guess)\n",
    "        diff = guess**2 - x\n",
    "        ctr += 1\n",
    "    assert ctr <= 100, 'Iteration count exceeded'\n",
    "    print 'NR method.  Num. iterations:', ctr, 'Estimate:', guess\n",
    "    return guess\n",
    "\n",
    "square_root_NR(2, 1e-06)"
   ]
  },
  {
   "cell_type": "markdown",
   "metadata": {},
   "source": [
    "https://github.com/jtsiomb/kdtree/blob/master/kdtree.c#L273"
   ]
  },
  {
   "cell_type": "markdown",
   "metadata": {},
   "source": [
    "#### Subtraction"
   ]
  },
  {
   "cell_type": "code",
   "execution_count": 30,
   "metadata": {
    "collapsed": false
   },
   "outputs": [
    {
     "name": "stdout",
     "output_type": "stream",
     "text": [
      "0.497363752535\n",
      "0.536085981012\n",
      "0.53988148036\n",
      "0.540260231419\n",
      "0.540298098506\n",
      "0.540301885121\n",
      "0.54030226404\n",
      "0.540302291796\n",
      "0.540302358409\n",
      "0.540302247387\n",
      "0.540301137164\n",
      "0.540345546085\n",
      "0.539568389968\n",
      "0.53290705182\n",
      "0.555111512313\n",
      "0.0\n",
      "0.0\n",
      "0.0\n",
      "0.0\n",
      "0.0\n",
      "True result: 0.540302\n"
     ]
    }
   ],
   "source": [
    "import math\n",
    "\n",
    "# derivative of sin(x) at x = 1\n",
    "for i in range(1, 21):\n",
    "    h = 10.0 ** -i\n",
    "    print (math.sin(1.0 + h) - math.sin(1.0)) / h\n",
    "\n",
    "print \"True result: %f\" % math.cos(1.0)"
   ]
  },
  {
   "cell_type": "markdown",
   "metadata": {},
   "source": [
    "#### Finite range"
   ]
  },
  {
   "cell_type": "code",
   "execution_count": 31,
   "metadata": {
    "collapsed": false
   },
   "outputs": [
    {
     "name": "stdout",
     "output_type": "stream",
     "text": [
      "9.00719925474e+15\n",
      "0.0\n"
     ]
    }
   ],
   "source": [
    "x = float(2 ** 53)\n",
    "print x\n",
    "print (x + 1) - x"
   ]
  },
  {
   "cell_type": "markdown",
   "metadata": {},
   "source": [
    "#### Decimal"
   ]
  },
  {
   "cell_type": "code",
   "execution_count": 32,
   "metadata": {
    "collapsed": false
   },
   "outputs": [
    {
     "data": {
      "text/plain": [
       "Decimal('0.1000000000000000055511151231257827021181583404541015625')"
      ]
     },
     "execution_count": 32,
     "metadata": {},
     "output_type": "execute_result"
    }
   ],
   "source": [
    "from decimal import Decimal\n",
    "Decimal(0.1)"
   ]
  },
  {
   "cell_type": "code",
   "execution_count": 9,
   "metadata": {
    "collapsed": false
   },
   "outputs": [
    {
     "name": "stdout",
     "output_type": "stream",
     "text": [
      "1.000010000200004000080001600\n",
      "CPU times: user 6.59 s, sys: 194 ms, total: 6.78 s\n",
      "Wall time: 15.4 s\n"
     ]
    }
   ],
   "source": [
    "%%time\n",
    "from decimal import Decimal\n",
    "\n",
    "a = 0\n",
    "\n",
    "for i in range(2, 100000):\n",
    "  a = Decimal('%d.%d' % (i, i)) / Decimal('%d.%d' % (i - 1, i - 1))\n",
    "print(a)"
   ]
  },
  {
   "cell_type": "code",
   "execution_count": 10,
   "metadata": {
    "collapsed": false
   },
   "outputs": [
    {
     "name": "stdout",
     "output_type": "stream",
     "text": [
      "1.0000100002\n",
      "CPU times: user 527 ms, sys: 11 ms, total: 538 ms\n",
      "Wall time: 1.01 s\n"
     ]
    }
   ],
   "source": [
    "%%time\n",
    "from decimal import Decimal\n",
    "\n",
    "a = 0\n",
    "\n",
    "for i in range(2, 100000):\n",
    "  a = float('%d.%d' % (i, i)) / float('%d.%d' % (i - 1, i - 1))\n",
    "print(a)"
   ]
  },
  {
   "cell_type": "markdown",
   "metadata": {},
   "source": [
    "#### NaN and Infinity"
   ]
  },
  {
   "cell_type": "code",
   "execution_count": 33,
   "metadata": {
    "collapsed": false
   },
   "outputs": [
    {
     "name": "stdout",
     "output_type": "stream",
     "text": [
      "nan True\n"
     ]
    }
   ],
   "source": [
    "import math\n",
    "r = float(\"inf\") / float(\"-inf\")\n",
    "print r, math.isnan(r)"
   ]
  },
  {
   "cell_type": "markdown",
   "metadata": {},
   "source": [
    "### Summary"
   ]
  },
  {
   "cell_type": "markdown",
   "metadata": {},
   "source": [
    "* с float'ами могут возникать потери точности\n",
    "* для денег и подобного полезен Decimal\n",
    "* не сравнивайте и не вычитайте float'ы!"
   ]
  },
  {
   "cell_type": "markdown",
   "metadata": {},
   "source": [
    "### References"
   ]
  },
  {
   "cell_type": "markdown",
   "metadata": {},
   "source": [
    "* https://www.johndcook.com/blog/2009/04/06/numbers-are-a-leaky-abstraction/\n",
    "* http://docs.oracle.com/cd/E19957-01/806-3568/ncg_goldberg.html\n",
    "* https://docs.python.org/2/tutorial/floatingpoint.html\n",
    "* https://www.codeproject.com/Articles/25294/Avoiding-Overflow-Underflow-and-Loss-of-Precision"
   ]
  },
  {
   "cell_type": "markdown",
   "metadata": {},
   "source": [
    "![xkcd](https://imgs.xkcd.com/comics/e_to_the_pi_minus_pi.png)"
   ]
  },
  {
   "cell_type": "markdown",
   "metadata": {},
   "source": [
    "## Itertools"
   ]
  },
  {
   "cell_type": "markdown",
   "metadata": {},
   "source": [
    "![itertools](http://nvie.com/img/relationships.png)"
   ]
  },
  {
   "cell_type": "markdown",
   "metadata": {},
   "source": [
    "#### Iterable"
   ]
  },
  {
   "cell_type": "markdown",
   "metadata": {},
   "source": [
    "Объект, способный возвращать элементы по одному\n",
    "* у него есть \\__iter\\__() (iterator protocol) или \\__getitem\\__() (sequence protocol)\n",
    "* вызов iter() превращает в итератор\n",
    "* for вызывает iter() неявно, сохраняет итератор в безымянной переменной"
   ]
  },
  {
   "cell_type": "markdown",
   "metadata": {},
   "source": [
    "#### Iterator"
   ]
  },
  {
   "cell_type": "markdown",
   "metadata": {},
   "source": [
    "Объект, представляющий последовательность данных\n",
    "* есть \\__iter\\__(), который возвращает себя же\n",
    "* iterator тоже iterable\n",
    "* оканчивается после raise StopIteration\n",
    "* iter() возвращает свежий итератор для iterable, но \"выдохшийся\" - для iterator'а"
   ]
  },
  {
   "cell_type": "code",
   "execution_count": 34,
   "metadata": {
    "collapsed": false
   },
   "outputs": [
    {
     "name": "stdout",
     "output_type": "stream",
     "text": [
      "<listiterator object at 0x108ef68d0>\n",
      "1\n",
      "2\n",
      "3\n"
     ]
    },
    {
     "ename": "StopIteration",
     "evalue": "",
     "output_type": "error",
     "traceback": [
      "\u001b[0;31m---------------------------------------------------------------------------\u001b[0m",
      "\u001b[0;31mStopIteration\u001b[0m                             Traceback (most recent call last)",
      "\u001b[0;32m<ipython-input-34-037987047737>\u001b[0m in \u001b[0;36m<module>\u001b[0;34m()\u001b[0m\n\u001b[1;32m      4\u001b[0m \u001b[0;32mprint\u001b[0m \u001b[0mx\u001b[0m\u001b[0;34m.\u001b[0m\u001b[0mnext\u001b[0m\u001b[0;34m(\u001b[0m\u001b[0;34m)\u001b[0m\u001b[0;34m\u001b[0m\u001b[0m\n\u001b[1;32m      5\u001b[0m \u001b[0;32mprint\u001b[0m \u001b[0mx\u001b[0m\u001b[0;34m.\u001b[0m\u001b[0mnext\u001b[0m\u001b[0;34m(\u001b[0m\u001b[0;34m)\u001b[0m\u001b[0;34m\u001b[0m\u001b[0m\n\u001b[0;32m----> 6\u001b[0;31m \u001b[0;32mprint\u001b[0m \u001b[0mx\u001b[0m\u001b[0;34m.\u001b[0m\u001b[0mnext\u001b[0m\u001b[0;34m(\u001b[0m\u001b[0;34m)\u001b[0m\u001b[0;34m\u001b[0m\u001b[0m\n\u001b[0m",
      "\u001b[0;31mStopIteration\u001b[0m: "
     ]
    }
   ],
   "source": [
    "x = iter([1, 2, 3])\n",
    "print x\n",
    "print x.next()\n",
    "print x.next()\n",
    "print x.next()\n",
    "print x.next()"
   ]
  },
  {
   "cell_type": "markdown",
   "metadata": {},
   "source": [
    "![it](http://nvie.com/img/iterable-vs-iterator.png)"
   ]
  },
  {
   "cell_type": "code",
   "execution_count": 35,
   "metadata": {
    "collapsed": false
   },
   "outputs": [
    {
     "name": "stdout",
     "output_type": "stream",
     "text": [
      "Node(0)\n",
      "Node(1)\n",
      "Node(3)\n",
      "Node(4)\n",
      "Node(2)\n",
      "Node(5)\n"
     ]
    }
   ],
   "source": [
    "import itertools\n",
    "\n",
    "class Node(object):\n",
    "    def __init__(self, value):\n",
    "        self._value = value\n",
    "        self._children = []\n",
    "\n",
    "    def __str__(self):\n",
    "        return 'Node(%s)' % self._value\n",
    "\n",
    "    def add_child(self, node):\n",
    "        self._children.append(node)\n",
    "\n",
    "    def __iter__(self):\n",
    "        return iter(self._children)\n",
    "\n",
    "    def depth_first(self):\n",
    "        return itertools.chain([self], *[c.depth_first() for c in self])\n",
    "\n",
    "\n",
    "root = Node(0)\n",
    "child1 = Node(1)\n",
    "child2 = Node(2)\n",
    "root.add_child(child1)\n",
    "root.add_child(child2)\n",
    "child1.add_child(Node(3))\n",
    "child1.add_child(Node(4))\n",
    "child2.add_child(Node(5))\n",
    "\n",
    "for ch in root.depth_first():\n",
    "    print(ch)"
   ]
  },
  {
   "cell_type": "markdown",
   "metadata": {},
   "source": [
    "#### Iterator protocol"
   ]
  },
  {
   "cell_type": "markdown",
   "metadata": {},
   "source": [
    "* iterator.\\__iter\\__(). Возвращает self\n",
    "* iterator.next(). Возвращает следующий эелемент, в конце кидает StopIteration"
   ]
  },
  {
   "cell_type": "code",
   "execution_count": 36,
   "metadata": {
    "collapsed": false
   },
   "outputs": [],
   "source": [
    "class Node(object):\n",
    "    def __init__(self, value):\n",
    "        self._value = value\n",
    "        self._children = []\n",
    "        \n",
    "    def __repr__(self):\n",
    "        return 'Node(%s)' % self._value\n",
    "\n",
    "    def add_child(self, other_node):\n",
    "        self._children.append(other_node)\n",
    "\n",
    "    def __iter__(self):\n",
    "        return iter(self._children)\n",
    "\n",
    "    def depth_first(self):\n",
    "        return DepthFirstIterator(self)\n",
    "\n",
    "\n",
    "class DepthFirstIterator(object):\n",
    "    '''\n",
    "    Depth-first traversal\n",
    "    '''\n",
    "    def __init__(self, start_node):\n",
    "        self._node = start_node\n",
    "        self._children_iter = None\n",
    "        self._child_iter = None\n",
    "\n",
    "    def __iter__(self):\n",
    "        return self\n",
    "\n",
    "    def next(self):\n",
    "        # Return myself if just started; create an iterator for children\n",
    "        if self._children_iter is None:\n",
    "            self._children_iter = iter(self._node)\n",
    "            return self._node\n",
    "\n",
    "        # If processing a child, return its next item\n",
    "        elif self._child_iter:\n",
    "            try:\n",
    "                nextchild = next(self._child_iter)\n",
    "                return nextchild\n",
    "            except StopIteration:\n",
    "                self._child_iter = None\n",
    "                return next(self)\n",
    "\n",
    "        # Advance to the next child and start its iteration\n",
    "        else:\n",
    "            self._child_iter = next(self._children_iter).depth_first()\n",
    "\n",
    "            return next(self)"
   ]
  },
  {
   "cell_type": "markdown",
   "metadata": {},
   "source": [
    "#### Sequence protocol"
   ]
  },
  {
   "cell_type": "markdown",
   "metadata": {},
   "source": [
    "* sequence.\\__getitem\\__(). Получает на вход индекс или slice, возвращает нужные элемент(ы). Кидает IndexError, если нет такого элемента\n",
    "* sequence.\\__len\\__(). Возвращает длину послеовательности"
   ]
  },
  {
   "cell_type": "markdown",
   "metadata": {},
   "source": [
    "#### Generator"
   ]
  },
  {
   "cell_type": "markdown",
   "metadata": {},
   "source": [
    "Функция, которая возвращает итератор\n",
    "* в ней есть yield\n",
    "* можно использовать next()\n",
    "* хранит состояние между yield'ами\n",
    "* одноразовый"
   ]
  },
  {
   "cell_type": "code",
   "execution_count": 37,
   "metadata": {
    "collapsed": true
   },
   "outputs": [],
   "source": [
    "def xreadlines(log_path):\n",
    "    if log_path.endswith(\".gz\"):\n",
    "        log = gzip.open(log_path,'rb')\n",
    "    else:\n",
    "        log = open(log_path)\n",
    "    total = processed = 0\n",
    "    for line in log:\n",
    "        parsed_line = process_line(line)\n",
    "        total += 1\n",
    "        if parsed_line:\n",
    "            processed += 1\n",
    "            yield parsed_line\n",
    "    print \"%s of %s lines processed\" % (processed, total)\n",
    "    log.close()"
   ]
  },
  {
   "cell_type": "markdown",
   "metadata": {},
   "source": [
    "#### Expressions"
   ]
  },
  {
   "cell_type": "markdown",
   "metadata": {},
   "source": [
    "* (expression for i in s if condition)\n",
    "* выдает элементы по одному (не занимает память)\n",
    "* полезно только для итерирования\n",
    "* одноразовые"
   ]
  },
  {
   "cell_type": "code",
   "execution_count": 38,
   "metadata": {
    "collapsed": false
   },
   "outputs": [],
   "source": [
    "import random\n",
    "import hashlib\n",
    "import uuid\n",
    "import gzip\n",
    "import bz2\n",
    "\n",
    "flip_coin = lambda: random.choice([True, False])\n",
    "TMP_DIR = os.path.join(os.path.expanduser(\"~\"), \"test_tmp\")\n",
    "\n",
    "def create_log_tree(root, max_width=3, max_height=5, max_logs=5):\n",
    "    if not os.path.exists(root):\n",
    "        os.makedirs(root)\n",
    "    for _ in xrange(max_logs):\n",
    "        if flip_coin():\n",
    "            path = os.path.join(root, \"otus-%s.log\" % uuid.uuid4().hex)\n",
    "            save_lines(path, gen_lines(1000), compress=random.choice([\"gz\", \"bz2\", None]))\n",
    "    if max_height == 0:\n",
    "        return\n",
    "\n",
    "    for i in xrange(1, random.randint(1, max_width + 1)):\n",
    "        create_log_tree(os.path.join(root, \"subdir%s\" % i), max_width, random.randint(0, max_height-1))\n",
    "\n",
    "\n",
    "def save_lines(path, lines, compress=None):\n",
    "    openers_map = {\"gz\": gzip.GzipFile, \"bz2\": bz2.BZ2File, None: open}\n",
    "    opener = openers_map.get(compress, open)\n",
    "    compressed_path = \"%s.%s\" % (path, compress) if compress else path\n",
    "    with opener(compressed_path, \"wb\") as fp:\n",
    "        for line in lines:\n",
    "            fp.write(line + \"\\n\")\n",
    "\n",
    "\n",
    "def gen_lines(num_lines):\n",
    "    for _ in xrange(num_lines):\n",
    "        ip = \".\".join([str(random.randint(1, 256)) for _ in xrange(4)])\n",
    "        if flip_coin():\n",
    "            line = '%s - \"GET /index.html HTTP/1.1\" 404 42' % ip\n",
    "        else:\n",
    "            b = random.randint(42, 10000) if flip_coin() else \"-\"\n",
    "            line = '%s - \"GET /static/%s.jpg HTTP/1.1\" 200 %s' % (ip, uuid.uuid4().hex, b)\n",
    "        yield line\n",
    "\n",
    "def create_tmp_otus_log(d=TMP_DIR, name=\"otus.log\"):\n",
    "    if not os.path.exists(d):\n",
    "        os.makedirs(d)\n",
    "    otus_log = os.path.join(d, name)\n",
    "    save_lines(otus_log, gen_lines(1000))\n",
    "    return otus_log"
   ]
  },
  {
   "cell_type": "code",
   "execution_count": 44,
   "metadata": {
    "collapsed": false
   },
   "outputs": [
    {
     "name": "stdout",
     "output_type": "stream",
     "text": [
      "Total 1170985\n"
     ]
    }
   ],
   "source": [
    "otus_log = create_tmp_otus_log()\n",
    "wwwlog     = open(otus_log)\n",
    "bytecolumn = (line.rsplit(None,1)[1] for line in wwwlog)\n",
    "bytes      = (int(x) for x in bytecolumn if x != '-')\n",
    "\n",
    "print \"Total\", sum(bytes)\n",
    "os.remove(otus_log)"
   ]
  },
  {
   "cell_type": "code",
   "execution_count": 40,
   "metadata": {
    "collapsed": false
   },
   "outputs": [
    {
     "name": "stdout",
     "output_type": "stream",
     "text": [
      "/Users/s.stupnikov/test_tmp/otus.log\n"
     ]
    }
   ],
   "source": [
    "print otus_log"
   ]
  },
  {
   "cell_type": "code",
   "execution_count": 43,
   "metadata": {
    "collapsed": false
   },
   "outputs": [
    {
     "name": "stdout",
     "output_type": "stream",
     "text": [
      "149.124.203.8 - \"GET /index.html HTTP/1.1\" 404 42\r\n",
      "204.76.145.154 - \"GET /static/4826ba0048ca43789c50b254e07def13.jpg HTTP/1.1\" 200 -\r\n",
      "112.78.179.155 - \"GET /static/00e5d7d6348e480bba7d4d9e9c36d924.jpg HTTP/1.1\" 200 -\r\n",
      "103.160.97.232 - \"GET /static/5ad36363f7b34c9dac95e432555e2c10.jpg HTTP/1.1\" 200 6781\r\n",
      "118.100.80.143 - \"GET /static/935ef9fa271149d48061115e5623aaa6.jpg HTTP/1.1\" 200 -\r\n",
      "1.16.160.147 - \"GET /index.html HTTP/1.1\" 404 42\r\n",
      "105.194.21.102 - \"GET /static/4c8c186e68384a229e3cf3345dac0ab8.jpg HTTP/1.1\" 200 4909\r\n",
      "75.163.94.169 - \"GET /static/5bffe8cd388b4e62b35e56dea4381d47.jpg HTTP/1.1\" 200 -\r\n",
      "52.227.147.119 - \"GET /static/97708756080846998c8df44b3baffb35.jpg HTTP/1.1\" 200 6448\r\n",
      "42.42.39.121 - \"GET /index.html HTTP/1.1\" 404 42\r\n"
     ]
    }
   ],
   "source": [
    "! head /Users/s.stupnikov/test_tmp/otus.log"
   ]
  },
  {
   "cell_type": "markdown",
   "metadata": {},
   "source": [
    "#### Pipelines"
   ]
  },
  {
   "cell_type": "code",
   "execution_count": 45,
   "metadata": {
    "collapsed": false
   },
   "outputs": [
    {
     "name": "stdout",
     "output_type": "stream",
     "text": [
      "Total 14061409\n"
     ]
    }
   ],
   "source": [
    "import os\n",
    "import fnmatch\n",
    "import bz2\n",
    "import gzip\n",
    "import re\n",
    "import shutil\n",
    "\n",
    "def gen_find(filepat,top):\n",
    "    for path, dirlist, filelist in os.walk(top):\n",
    "        for name in fnmatch.filter(filelist,filepat):\n",
    "            yield os.path.join(path,name)\n",
    "\n",
    "def gen_open(filenames):\n",
    "    for name in filenames:\n",
    "        if name.endswith(\".gz\"):\n",
    "            yield gzip.open(name)\n",
    "        elif name.endswith(\".bz2\"):\n",
    "            yield bz2.BZ2File(name)\n",
    "        else:\n",
    "            yield open(name)\n",
    "\n",
    "def gen_cat(sources):\n",
    "    for s in sources:\n",
    "        for item in s:\n",
    "            yield item\n",
    "\n",
    "def gen_grep(pat,lines):\n",
    "    patc = re.compile(pat)\n",
    "    for line in lines:\n",
    "        if patc.search(line): yield line\n",
    "\n",
    "create_log_tree(TMP_DIR)\n",
    "pat    = r'/static/.*\\.jpg'\n",
    "logdir = TMP_DIR\n",
    "\n",
    "filenames = gen_find(\"otus-*.log*\",logdir)\n",
    "logfiles  = gen_open(filenames)\n",
    "loglines  = gen_cat(logfiles)\n",
    "patlines  = gen_grep(pat,loglines)\n",
    "bytecol   = (line.rsplit(None,1)[1] for line in patlines)\n",
    "bytes     = (int(x) for x in bytecol if x != '-')\n",
    "\n",
    "print \"Total\", sum(bytes)\n",
    "shutil.rmtree(TMP_DIR)"
   ]
  },
  {
   "cell_type": "markdown",
   "metadata": {},
   "source": [
    "#### Coroutines"
   ]
  },
  {
   "cell_type": "code",
   "execution_count": 46,
   "metadata": {
    "collapsed": false
   },
   "outputs": [
    {
     "name": "stdout",
     "output_type": "stream",
     "text": [
      "T-minus 5\n",
      "T-minus 4\n",
      "T-minus 3\n",
      "T-minus 2\n",
      "T-minus 1\n",
      "Boom!\n"
     ]
    }
   ],
   "source": [
    "def recv_count():\n",
    "    try:\n",
    "        while True:\n",
    "            n = (yield)\n",
    "            print \"T-minus\", n\n",
    "    except GeneratorExit:\n",
    "        print \"Boom!\"\n",
    "\n",
    "r = recv_count()\n",
    "r.next() # mandatory\n",
    "for i in range(5, 0, -1):\n",
    "    r.send(i)\n",
    "\n",
    "r.close()"
   ]
  },
  {
   "cell_type": "code",
   "execution_count": 47,
   "metadata": {
    "collapsed": false
   },
   "outputs": [],
   "source": [
    "def field_map(dictseq, name, func):\n",
    "    for d in dictseq:\n",
    "        d[name] = func(d[name])\n",
    "        yield d\n",
    "\n",
    "def otus_log_parser(lines):\n",
    "    logpats  = r'(\\S+) (\\S+) \"(\\S+) (\\S+) (\\S+)\" (\\S+) (\\S+)'\n",
    "    logpat   = re.compile(logpats)\n",
    "    \n",
    "    groups = (logpat.match(line) for line in lines)\n",
    "    tuples = (g.groups() for g in groups if g)\n",
    "    \n",
    "    colnames = ('host','datetime', 'method', 'request','proto','status','bytes')\n",
    "\n",
    "    log      = (dict(zip(colnames,t)) for t in tuples)\n",
    "    log      = field_map(log,\"status\",int)\n",
    "    log      = field_map(log,\"bytes\", lambda s: int(s) if s != '-' else 0)\n",
    "\n",
    "    return log\n",
    "\n",
    "def broadcast(source, consumers):\n",
    "    for item in source:\n",
    "        for c in consumers:\n",
    "            c.send(item)\n",
    "    for c in consumers:\n",
    "        try:\n",
    "            c.send(None)\n",
    "        except StopIteration:\n",
    "            pass\n",
    "\n",
    "def consumer(func):\n",
    "    def start(*args,**kwargs):\n",
    "        c = func(*args,**kwargs)\n",
    "        c.next()\n",
    "        return c\n",
    "    return start"
   ]
  },
  {
   "cell_type": "code",
   "execution_count": 48,
   "metadata": {
    "collapsed": false
   },
   "outputs": [
    {
     "name": "stdout",
     "output_type": "stream",
     "text": [
      "200: 484\n",
      "404: 516\n",
      "Total bytes 1303046\n"
     ]
    }
   ],
   "source": [
    "import collections\n",
    "import pprint\n",
    "\n",
    "@consumer\n",
    "def status_stat():\n",
    "    stat = collections.defaultdict(int)\n",
    "    while True:\n",
    "        r = (yield)\n",
    "        if r is None:\n",
    "            break\n",
    "        stat[r[\"status\"]] += 1\n",
    "    for s, c in stat.iteritems():\n",
    "        print \"%s: %s\" % (s, c)\n",
    "\n",
    "@consumer\n",
    "def bytes_transferred():\n",
    "    total = 0\n",
    "    while True:\n",
    "        r = (yield)\n",
    "        if r is None:\n",
    "            break\n",
    "        total += r['bytes']\n",
    "    print \"Total bytes\", total\n",
    "\n",
    "otus_log = create_tmp_otus_log()\n",
    "lines = gen_cat(gen_open([otus_log]))\n",
    "log   = otus_log_parser(lines)\n",
    "\n",
    "broadcast(log, [status_stat(), bytes_transferred()])"
   ]
  },
  {
   "cell_type": "markdown",
   "metadata": {},
   "source": [
    "#### itertools"
   ]
  },
  {
   "cell_type": "markdown",
   "metadata": {},
   "source": [
    "https://docs.python.org/2/library/itertools.html\n",
    "* izip\n",
    "* chain\n",
    "* groupby\n",
    "* Recipes"
   ]
  },
  {
   "cell_type": "markdown",
   "metadata": {},
   "source": [
    "### Summary"
   ]
  },
  {
   "cell_type": "markdown",
   "metadata": {},
   "source": [
    "* все по чему можно запустить цилк - это iterable\n",
    "* циклы работают за счет создания iterator'а из iterable\n",
    "* можно создать кастомный iterator, но он должен соблюдать iterator protocol\n",
    "* genarator'ы - это функции, которые в процессе делают yield, сохраняя состояние между вызовами\n",
    "* generator expression - удобная форма создания генераторов.\n",
    "* genarator'ы могут не только инкрементально возвращать, но и получать данные с помощью send\n",
    "* itertools содержать множество полезных штук для работы с итераторами"
   ]
  },
  {
   "cell_type": "markdown",
   "metadata": {},
   "source": [
    "### References"
   ]
  },
  {
   "cell_type": "markdown",
   "metadata": {},
   "source": [
    "* https://docs.python.org/2.7/glossary.html#term-iterable\n",
    "* http://anandology.com/python-practice-book/iterators.html\n",
    "* http://nvie.com/posts/iterators-vs-generators/\n",
    "* http://python-history.blogspot.ru/2010/06/from-list-comprehensions-to-generator.html\n",
    "* http://www.dabeaz.com/generators-uk/\n",
    "* https://stackoverflow.com/a/25233077"
   ]
  },
  {
   "cell_type": "markdown",
   "metadata": {},
   "source": [
    "## Functional programming"
   ]
  },
  {
   "cell_type": "markdown",
   "metadata": {},
   "source": [
    "#### Origins"
   ]
  },
  {
   "cell_type": "markdown",
   "metadata": {},
   "source": [
    "http://python-history.blogspot.ru/2009/04/origins-of-pythons-functional-features.html\n",
    "\n",
    "https://groups.google.com/forum/#!topic/nzpug/XoicSTAFnXg\n",
    "\n",
    "Guido:\n",
    "\n",
    "* I've never liked lambda\n",
    "    - crippled (only one expression)\n",
    "    - confusing (no argument list parentheses)\n",
    "    - can use a local function instead\n",
    "* map(), filter()\n",
    "    - using a Python function here is slow\n",
    "    - list comprehensions do the same thing better\n",
    "* reduce()\n",
    "    - nobody uses it, few understand it\n",
    "    - a for loop is clearer & (usually) faster"
   ]
  },
  {
   "cell_type": "markdown",
   "metadata": {},
   "source": [
    "#### Recursion"
   ]
  },
  {
   "cell_type": "markdown",
   "metadata": {},
   "source": [
    "#### Visualization"
   ]
  },
  {
   "cell_type": "markdown",
   "metadata": {},
   "source": [
    "https://goo.gl/K4XTq6"
   ]
  },
  {
   "cell_type": "markdown",
   "metadata": {},
   "source": [
    "![deeper](http://s7.pikabu.ru/images/big_size_comm/2014-05_4/14006121332953.png)"
   ]
  },
  {
   "cell_type": "code",
   "execution_count": 49,
   "metadata": {
    "collapsed": false
   },
   "outputs": [
    {
     "name": "stdout",
     "output_type": "stream",
     "text": [
      "{2: 3, 6: 3} [3, 3] 2\n"
     ]
    }
   ],
   "source": [
    "import collections\n",
    "\n",
    "\n",
    "def gen_lines_test():\n",
    "    return [\"1 2\", \"2 3\", \"2 4\", \"3 1\", \"4 5\", \"5 6\", \"6 4\"]\n",
    "\n",
    "\n",
    "def reverse_head_tail(first, second):\n",
    "    return second, first\n",
    "\n",
    "\n",
    "def map_nodes(f, first, second):\n",
    "    return f[first], f[second]\n",
    "\n",
    "\n",
    "def identity(first, second):\n",
    "    return first, second\n",
    "\n",
    "\n",
    "def get_adj_list(lines, action):\n",
    "    adj_list = collections.defaultdict(list)\n",
    "    for line in lines:\n",
    "        line = [int(i) for i in line.split()]\n",
    "        tail_vertex, head_vertex = action(line[0], line[1])\n",
    "        adj_list[tail_vertex].append(head_vertex)\n",
    "    return adj_list\n",
    "\n",
    "\n",
    "def dfs_loop(adj_list, nodes_list):\n",
    "    traverse_order = 0\n",
    "    curr_leader = 0\n",
    "    f = []\n",
    "    leaders = {}\n",
    "    explored = set()\n",
    "    for node in nodes_list:\n",
    "        if node not in explored:\n",
    "            curr_leader = node\n",
    "            curr_leader, traverse_order, explored, f, leaders = dfs(adj_list, node, curr_leader, traverse_order, explored, f, leaders)\n",
    "    return adj_list, f, leaders\n",
    "\n",
    "\n",
    "def dfs(adj_list, i, curr_leader, traverse_order, explored, f, leaders):\n",
    "    explored.add(i)\n",
    "    leaders[i] = curr_leader\n",
    "    for node in adj_list[i]:\n",
    "        if node not in explored:\n",
    "            curr_leader, traverse_order, explored, f, leaders = dfs(adj_list, node, curr_leader, traverse_order, explored, f, leaders)\n",
    "    f.append(i)\n",
    "    traverse_order += 1\n",
    "\n",
    "    return curr_leader, traverse_order, explored, f, leaders\n",
    "\n",
    "# https://en.wikipedia.org/wiki/Kosaraju%27s_algorithm\n",
    "rev_adj_list = get_adj_list(gen_lines_test(), reverse_head_tail)\n",
    "nodes_list = sorted(rev_adj_list.keys(), reverse=True)\n",
    "a, f, l = dfs_loop(rev_adj_list, nodes_list)\n",
    "adj_list = get_adj_list(gen_lines_test(), identity)\n",
    "f.reverse()\n",
    "a, f, l = dfs_loop(adj_list, f)\n",
    "scc_dict = collections.defaultdict(lambda: 0)\n",
    "for i in l.values():\n",
    "    scc_dict[i] += 1\n",
    "res = scc_dict.values()\n",
    "res.sort()\n",
    "print dict(scc_dict), res, len(res)"
   ]
  },
  {
   "cell_type": "markdown",
   "metadata": {},
   "source": [
    "#### Limitations"
   ]
  },
  {
   "cell_type": "code",
   "execution_count": 50,
   "metadata": {
    "collapsed": false
   },
   "outputs": [
    {
     "ename": "ValueError",
     "evalue": "not allowed to raise maximum limit",
     "output_type": "error",
     "traceback": [
      "\u001b[0;31m---------------------------------------------------------------------------\u001b[0m",
      "\u001b[0;31mValueError\u001b[0m                                Traceback (most recent call last)",
      "\u001b[0;32m<ipython-input-50-ea03e905aef3>\u001b[0m in \u001b[0;36m<module>\u001b[0;34m()\u001b[0m\n\u001b[1;32m      1\u001b[0m \u001b[0;32mimport\u001b[0m \u001b[0msys\u001b[0m\u001b[0;34m\u001b[0m\u001b[0m\n\u001b[1;32m      2\u001b[0m \u001b[0;32mimport\u001b[0m \u001b[0mresource\u001b[0m\u001b[0;34m\u001b[0m\u001b[0m\n\u001b[0;32m----> 3\u001b[0;31m \u001b[0mresource\u001b[0m\u001b[0;34m.\u001b[0m\u001b[0msetrlimit\u001b[0m\u001b[0;34m(\u001b[0m\u001b[0mresource\u001b[0m\u001b[0;34m.\u001b[0m\u001b[0mRLIMIT_STACK\u001b[0m\u001b[0;34m,\u001b[0m \u001b[0;34m(\u001b[0m\u001b[0mresource\u001b[0m\u001b[0;34m.\u001b[0m\u001b[0mRLIM_INFINITY\u001b[0m\u001b[0;34m,\u001b[0m \u001b[0mresource\u001b[0m\u001b[0;34m.\u001b[0m\u001b[0mRLIM_INFINITY\u001b[0m\u001b[0;34m)\u001b[0m\u001b[0;34m)\u001b[0m\u001b[0;34m\u001b[0m\u001b[0m\n\u001b[0m\u001b[1;32m      4\u001b[0m \u001b[0msys\u001b[0m\u001b[0;34m.\u001b[0m\u001b[0msetrecursionlimit\u001b[0m\u001b[0;34m(\u001b[0m\u001b[0;36m10\u001b[0m\u001b[0;34m**\u001b[0m\u001b[0;36m6\u001b[0m\u001b[0;34m)\u001b[0m\u001b[0;34m\u001b[0m\u001b[0m\n\u001b[1;32m      5\u001b[0m \u001b[0mthread\u001b[0m\u001b[0;34m.\u001b[0m\u001b[0mstack_size\u001b[0m\u001b[0;34m(\u001b[0m\u001b[0;36m2\u001b[0m\u001b[0;34m**\u001b[0m\u001b[0;36m27\u001b[0m\u001b[0;34m)\u001b[0m\u001b[0;34m\u001b[0m\u001b[0m\n",
      "\u001b[0;31mValueError\u001b[0m: not allowed to raise maximum limit"
     ]
    }
   ],
   "source": [
    "import sys\n",
    "import resource\n",
    "resource.setrlimit(resource.RLIMIT_STACK, (resource.RLIM_INFINITY, resource.RLIM_INFINITY))\n",
    "sys.setrecursionlimit(10**6)\n",
    "thread.stack_size(2**27)"
   ]
  },
  {
   "cell_type": "markdown",
   "metadata": {},
   "source": [
    "#### TCO"
   ]
  },
  {
   "cell_type": "code",
   "execution_count": null,
   "metadata": {
    "collapsed": true
   },
   "outputs": [],
   "source": [
    "def binary_search(x, lst, low=None, high=None):\n",
    "    if low == None : low = 0\n",
    "    if high == None : high = len(lst)-1\n",
    "    mid = low + (high - low) / 2\n",
    "    if low > high :\n",
    "        return None\n",
    "    elif lst[mid] == x :\n",
    "        return mid\n",
    "    elif lst[mid] > x :\n",
    "        return binary_search(x, lst, low, mid-1)\n",
    "    else :\n",
    "        return binary_search(x, lst, mid+1, high)"
   ]
  },
  {
   "cell_type": "code",
   "execution_count": null,
   "metadata": {
    "collapsed": true
   },
   "outputs": [],
   "source": [
    "def binary_search(x, lst, low=None, high=None) :\n",
    "  start:\n",
    "    if low == None : low = 0\n",
    "    if high == None : high = len(lst)-1\n",
    "    mid = low + (high - low) // 2\n",
    "    if low > high :\n",
    "        return None\n",
    "    elif lst[mid] == x :\n",
    "        return mid\n",
    "    elif lst[mid] > x :\n",
    "        (x, lst, low, high) = (x, lst, low, mid-1)\n",
    "        goto start\n",
    "    else :\n",
    "        (x, lst, low, high) = (x, lst, mid+1, high)\n",
    "        goto start"
   ]
  },
  {
   "cell_type": "markdown",
   "metadata": {},
   "source": [
    "https://godbolt.org/g/VcXaru"
   ]
  },
  {
   "cell_type": "markdown",
   "metadata": {},
   "source": [
    "#### LEGB"
   ]
  },
  {
   "cell_type": "markdown",
   "metadata": {},
   "source": [
    "* local\n",
    "* enclosing\n",
    "* global\n",
    "* built-in"
   ]
  },
  {
   "cell_type": "code",
   "execution_count": 51,
   "metadata": {
    "collapsed": false
   },
   "outputs": [
    {
     "name": "stdout",
     "output_type": "stream",
     "text": [
      "4\n",
      "5\n",
      "aaa\n"
     ]
    }
   ],
   "source": [
    "def foo():\n",
    "    x = 4\n",
    "\n",
    "    def bar():\n",
    "        print x\n",
    "\n",
    "    bar()\n",
    "    x = 5\n",
    "    bar()\n",
    "    return bar\n",
    "\n",
    "x = \"aaa\"\n",
    "f = foo()\n",
    "print x\n"
   ]
  },
  {
   "cell_type": "markdown",
   "metadata": {},
   "source": [
    "https://goo.gl/VHvwF5"
   ]
  },
  {
   "cell_type": "markdown",
   "metadata": {},
   "source": [
    "#### Closures"
   ]
  },
  {
   "cell_type": "markdown",
   "metadata": {},
   "source": [
    "Guido: \"It is also worth nothing that even though I didn't envision Python as a functional language, the introduction of closures has been useful in the development of many other advanced programming features\""
   ]
  },
  {
   "cell_type": "code",
   "execution_count": 52,
   "metadata": {
    "collapsed": false
   },
   "outputs": [
    {
     "name": "stdout",
     "output_type": "stream",
     "text": [
      "{'endpoint': 'categoryDisplay', 'options': {}, 'rule': '/<categId>/', 'view_func': None}\n"
     ]
    }
   ],
   "source": [
    "def add_url_rule(rule, endpoint=None, view_func=None, **options):\n",
    "    return lambda s:  s.add_url_rule(rule, endpoint, view_func, **options)\n",
    "\n",
    "f = add_url_rule('/<categId>/', 'categoryDisplay', None)\n",
    "print dict(zip(f.func_code.co_freevars, (c.cell_contents for c in f.func_closure)))"
   ]
  },
  {
   "cell_type": "markdown",
   "metadata": {},
   "source": [
    "#### Late binding"
   ]
  },
  {
   "cell_type": "code",
   "execution_count": 53,
   "metadata": {
    "collapsed": false
   },
   "outputs": [
    {
     "name": "stdout",
     "output_type": "stream",
     "text": [
      "8\n",
      "8\n",
      "8\n",
      "8\n",
      "8\n"
     ]
    }
   ],
   "source": [
    "def create_multipliers():\n",
    "    return [lambda x : i * x for i in range(5)]\n",
    "\n",
    "for multiplier in create_multipliers():\n",
    "    print multiplier(2)"
   ]
  },
  {
   "cell_type": "code",
   "execution_count": 54,
   "metadata": {
    "collapsed": true
   },
   "outputs": [],
   "source": [
    "def create_multipliers():\n",
    "    return [lambda x, i=i : i * x for i in range(5)]"
   ]
  },
  {
   "cell_type": "markdown",
   "metadata": {},
   "source": [
    "### Summary"
   ]
  },
  {
   "cell_type": "markdown",
   "metadata": {},
   "source": [
    "* Python не функциональный язык\n",
    "* functions are first-class citizens\n",
    "* Рекурсия хороша, в основном, на собеседованиях\n",
    "* closure крайне полезны (теже декораторы), но стоит помнить про late binding"
   ]
  },
  {
   "cell_type": "markdown",
   "metadata": {},
   "source": [
    "### References"
   ]
  },
  {
   "cell_type": "markdown",
   "metadata": {},
   "source": [
    "* http://www.kylem.net/programming/tailcall.html\n",
    "* https://docs.python.org/2/reference/datamodel.html (ctrl+F \"\\__closure\\__\")\n",
    "* http://www.ostricher.com/2014/10/on-python-closures/\n",
    "* http://neopythonic.blogspot.ru/2009/04/tail-recursion-elimination.html\n",
    "* http://www.ostricher.com/2014/10/on-python-closures/"
   ]
  },
  {
   "cell_type": "markdown",
   "metadata": {},
   "source": [
    "## Decorators"
   ]
  },
  {
   "cell_type": "markdown",
   "metadata": {},
   "source": [
    "![decorate](https://qxf2.com/blog/wp-content/uploads/2014/09/qxf2-gun-decorator1.jpg)"
   ]
  },
  {
   "cell_type": "markdown",
   "metadata": {},
   "source": [
    "#### Passing arguments"
   ]
  },
  {
   "cell_type": "code",
   "execution_count": 55,
   "metadata": {
    "collapsed": false
   },
   "outputs": [
    {
     "name": "stdout",
     "output_type": "stream",
     "text": [
      "args:  ('Bill', 'Linus', 'Stieve')  kwargs: {'platypus': 'Homer!'}\n",
      "Bill Linus Stieve Homer!\n"
     ]
    }
   ],
   "source": [
    "def decorator(func):\n",
    "    def wrapper(*args, **kwargs):\n",
    "        print \"args: \", args, \" kwargs:\", kwargs\n",
    "        func(*args, **kwargs)\n",
    "    return wrapper\n",
    " \n",
    "@decorator\n",
    "def f(a, b, c, platypus=\"Why not?\"):\n",
    "    print a, b, c, platypus\n",
    "\n",
    "# f = decorator(f)\n",
    "\n",
    "f(\"Bill\", \"Linus\", \"Stieve\", platypus=\"Homer!\")"
   ]
  },
  {
   "cell_type": "markdown",
   "metadata": {},
   "source": [
    "#### Decorator class"
   ]
  },
  {
   "cell_type": "code",
   "execution_count": 56,
   "metadata": {
    "collapsed": false
   },
   "outputs": [
    {
     "name": "stdout",
     "output_type": "stream",
     "text": [
      "f is deprecated\n"
     ]
    }
   ],
   "source": [
    "class deprecated(object):\n",
    "    def __call__(self, func):\n",
    "        self.func = func\n",
    "        self.count = 0\n",
    "        return self._wrapper\n",
    "    def _wrapper(self, *args, **kwargs):\n",
    "        self.count += 1\n",
    "        if self.count == 1:\n",
    "            print self.func.__name__, 'is deprecated'\n",
    "        return self.func(*args, **kwargs)\n",
    "\n",
    "@deprecated()\n",
    "def f():\n",
    "    pass\n",
    "\n",
    "f()"
   ]
  },
  {
   "cell_type": "markdown",
   "metadata": {},
   "source": [
    "#### Standard decorators"
   ]
  },
  {
   "cell_type": "code",
   "execution_count": 58,
   "metadata": {
    "collapsed": false
   },
   "outputs": [
    {
     "name": "stdout",
     "output_type": "stream",
     "text": [
      "Damn!\n"
     ]
    }
   ],
   "source": [
    "class ScreamingWordProcessor(object):\n",
    "    PLUGINS = []\n",
    "    def process(self, text):\n",
    "        for plugin in self.PLUGINS:\n",
    "            text = plugin().cleanup(text)\n",
    "        return text\n",
    "\n",
    "    @staticmethod\n",
    "    def scream(msg):\n",
    "        print msg + '!'\n",
    "    \n",
    "    @classmethod\n",
    "    def plugin(cls, plugin):\n",
    "        cls.PLUGINS.append(plugin)\n",
    "\n",
    "@ScreamingWordProcessor.plugin\n",
    "class CleanMdashesExtension(object):\n",
    "    def cleanup(self, text):\n",
    "        return text.replace('&mdash;', u'\\N{em dash}')\n",
    "\n",
    "ScreamingWordProcessor.scream(\"Damn\")"
   ]
  },
  {
   "cell_type": "markdown",
   "metadata": {},
   "source": [
    "#### Decorator with arguments"
   ]
  },
  {
   "cell_type": "code",
   "execution_count": 59,
   "metadata": {
    "collapsed": false
   },
   "outputs": [
    {
     "name": "stdout",
     "output_type": "stream",
     "text": [
      "Decorator make args: Tesla SpaceX\n",
      "Decorator args: Tesla SpaceX\n",
      "Wrapper args: ('Neuralink', 'Solar') {}\n",
      "Function args: Neuralink Solar\n"
     ]
    }
   ],
   "source": [
    "def decorator_maker(decorator_arg1, decorator_arg2):\n",
    "    print \"Decorator make args:\", decorator_arg1, decorator_arg2\n",
    "    def decorator(func):\n",
    "        print \"Decorator args:\", decorator_arg1, decorator_arg2\n",
    "        def wrapper(*args, **kwargs) :\n",
    "            print \"Wrapper args:\", args, kwargs\n",
    "            return func(*args, **kwargs)\n",
    " \n",
    "        return wrapper\n",
    " \n",
    "    return decorator\n",
    " \n",
    "@decorator_maker(\"Tesla\", \"SpaceX\")\n",
    "def f(arg1, arg2):\n",
    "    print \"Function args:\", arg1, arg2\n",
    " \n",
    "f(\"Neuralink\", \"Solar\")"
   ]
  },
  {
   "cell_type": "markdown",
   "metadata": {},
   "source": [
    "#### Multiple decorators"
   ]
  },
  {
   "cell_type": "code",
   "execution_count": 3,
   "metadata": {
    "collapsed": false
   },
   "outputs": [
    {
     "name": "stdout",
     "output_type": "stream",
     "text": [
      "reverse_string called with: 1\n",
      "wrapper ('Red rum, sir, is murder',) {}\n",
      "wrapper 0.005435\n",
      "redrum si ,ris ,mur deR\n"
     ]
    }
   ],
   "source": [
    "def benchmark(func):\n",
    "    import time\n",
    "    def wrapper(*args, **kwargs):\n",
    "        t = time.clock()\n",
    "        res = func(*args, **kwargs)\n",
    "        print func.__name__, time.clock() - t\n",
    "        return res\n",
    "    return wrapper\n",
    " \n",
    " \n",
    "def logging(func):\n",
    "    def wrapper(*args, **kwargs):\n",
    "        res = func(*args, **kwargs)\n",
    "        print func.__name__, args, kwargs\n",
    "        return res\n",
    "    return wrapper\n",
    " \n",
    " \n",
    "def counter(func):\n",
    "    def wrapper(*args, **kwargs):\n",
    "        wrapper.count += 1\n",
    "        res = func(*args, **kwargs)\n",
    "        print \"%s called with: %s\" % (func.__name__, wrapper.count)\n",
    "        return res\n",
    "    wrapper.count = 0\n",
    "    return wrapper\n",
    " \n",
    " \n",
    "@benchmark\n",
    "@logging\n",
    "@counter\n",
    "def reverse_string(string):\n",
    "    return string[::-1]\n",
    " \n",
    "print reverse_string(\"Red rum, sir, is murder\")"
   ]
  },
  {
   "cell_type": "markdown",
   "metadata": {},
   "source": [
    "#### functools"
   ]
  },
  {
   "cell_type": "code",
   "execution_count": 61,
   "metadata": {
    "collapsed": true
   },
   "outputs": [],
   "source": [
    "from functools import wraps\n",
    "\n",
    "def timeit(func):\n",
    "    @wraps(func)\n",
    "    def wrapper(self, *args, **kwargs):\n",
    "        start_time = time.time()\n",
    "        called_func = func._original if hasattr(func, '_original') and not DEBUG else func\n",
    "        result = called_func(self, *args, **kwargs)\n",
    "        end_time = time.time()\n",
    "        logging.info('%s took: %.3f sec' % (func.__name__, end_time - start_time))\n",
    "        return result\n",
    "    return wrapper\n",
    "\n",
    "\n",
    "def mockable(func):\n",
    "    @wraps(func)\n",
    "    def wrapper(self, *args, **kwargs):\n",
    "        func_name = func.__name__ + '_mock' if DEBUG else func.__name__\n",
    "        result = getattr(self, func_name)(*args, **kwargs)\n",
    "        return result\n",
    "    wrapper._original = func\n",
    "    return wrapper\n",
    "\n",
    "\n",
    "class Photographer(object):\n",
    "    @timeit\n",
    "    @mockable\n",
    "    def get_banners(self):\n",
    "        url = conf.photographer.get_banners_url + \"?server_name=%s\" % conf.photographer.server_name\n",
    "        try:\n",
    "            result = self.request(url)\n",
    "            result = json.loads(result)\n",
    "        except ValueError:\n",
    "            result = []\n",
    "        return [Banner(b) for b in result]\n",
    "\n",
    "    def get_banners_mock(self):\n",
    "        banners = [\n",
    "            {\"viewpages\": [\"http://mail.ru/\"], \"gender\": [0, 1, 2], \"age\": [], \"task_id\": \"abc123\", \"geo\": [42], \"id\": 26554477, \"slot_id\": 42, \"desc\": \"inbox\", \"campaign_id\": 42},    \n",
    "        ]\n",
    "        return [Banner(b) for b in banners]"
   ]
  },
  {
   "cell_type": "markdown",
   "metadata": {},
   "source": [
    "### Summary"
   ]
  },
  {
   "cell_type": "markdown",
   "metadata": {},
   "source": [
    "* decorators are cool!"
   ]
  },
  {
   "cell_type": "markdown",
   "metadata": {},
   "source": [
    "### Refernces"
   ]
  },
  {
   "cell_type": "markdown",
   "metadata": {},
   "source": [
    "* https://habrahabr.ru/post/141501/\n",
    "* https://www.youtube.com/watch?v=9oyr0mocZTg\n",
    "* http://www.scipy-lectures.org/advanced/advanced_python/#decorators"
   ]
  },
  {
   "cell_type": "markdown",
   "metadata": {},
   "source": [
    "### Homework"
   ]
  },
  {
   "cell_type": "markdown",
   "metadata": {},
   "source": [
    "#### Регламент"
   ]
  },
  {
   "cell_type": "markdown",
   "metadata": {},
   "source": [
    "__Обратная связь по ДЗ__: студент коммитит все необходимое в свой github репозитарий и присылает на stupnikov@otus.ru ссылку на релевантный код. В теме письма достаточно указать номер домашнего задания, например \"ДЗ 1\", в письме обязательно дожно быть имя и фамилия студента. Общение про каждое ДЗ происходит в рамках отдельного почтового треда (т.е. исправления нужно присылать ответом на писмо с моими замечаниями, а не как отдельное письмо). Для ДЗ, которые выдаются дольше, чем на одну неделю (составные ДЗ из нескольких частей, по Django например), общение все равно идет в одном почтовом треде.\n",
    "\n",
    "Пример структуры репозитария: https://github.com/s-stupnikov/otus-python-0717 , http://docs.python-guide.org/en/latest/writing/structure/#structure-of-the-repository\n",
    "\n",
    "__Как понять что ДЗ сдано и больше нет замечаний?__ я напишу в ответном письме что-то типа: \"ок, сдано\"."
   ]
  },
  {
   "cell_type": "markdown",
   "metadata": {},
   "source": [
    "__Hard deadline__: до следующего занятия. То есть ДЗ, выданное в пятницу, нужно сдать до занятия в среду.\n",
    "\n",
    "__Soft deadline__: до окончания курса. ДЗ можно досдавать в течение курса и во время 5го месяца (проекта). Запоздалые ДЗ проверяются в последнюю очередь, высокая скорость их проверки не гарантируется. Без всех сданных ДЗ студент к проекту не допускается."
   ]
  },
  {
   "cell_type": "markdown",
   "metadata": {},
   "source": [
    "#### Задания"
   ]
  },
  {
   "cell_type": "markdown",
   "metadata": {},
   "source": [
    "__Poker__\n",
    "\n",
    "*Задание*: дополнить код в скрипте `poker.py`, инструкции в шапке файла\n",
    "\n",
    "*Цель задания*: применить знания о итераторах\\генераторах, получить (освежить) навык обращения с `itertools`\n",
    "\n",
    "*Критерии успеха*: задание __опционально__, минимальным критерием успеха является прохождение тестов функции `test_best_hand`"
   ]
  },
  {
   "cell_type": "markdown",
   "metadata": {},
   "source": [
    "__Deco__\n",
    "\n",
    "*Задание*: дополнить код в скрипте `deco.py`. Там готовый шаблон кода, нужно реализовать несколько декораторов. Примеры запуска уже есть\n",
    "\n",
    "*Цель задания*: получить (освежить) навык обращения с декораторами\n",
    "\n",
    "*Критерии успеха*: задание __опционально__, минимальным критерием успеха является то, что `main` выводит сообразный логике кода результат.\n"
   ]
  },
  {
   "cell_type": "markdown",
   "metadata": {},
   "source": [
    "__Log Analyzer__\n",
    "\n",
    "Жил-был чудный веб-интерфейса и все у него было хорошо: в него ходили пользователи, что-то там кликали, переходили по ссылкам, получали результат. Но со временем некоторые его странички стали тупить и долго грузиться. Менеджеры часто жалуются, мол \"вот тут список долго грузился\" или \"интерфейсик тупит, поиск не работает\". Но так трудно отделить те случаи, где проблемы на их стороне, а где действительно виноват веб-сервис. В логи интерфейса добавили время запроса (`$request_time` в `nginx` http://nginx.org/en/docs/http/ngx_http_log_module.html#log_format). Теперь можно распарсить логи и провести первичный анализ, выявив подозрительные URL'ы.\n",
    "\n",
    "Про логи:\n",
    "* семпл лога: `nginx-access-ui.log-20170630.gz`\n",
    "* шаблон названия логов интерфейса соответствует названию сэмпла (ну, только время меняется)\n",
    "* так вышло, что логи могут быть и plain и gzip\n",
    "* лог ротируется раз в день\n",
    "* опять же, так вышло, что логи интерфейса лежат в папке с логами других сервисов\n",
    "\n",
    "\n",
    "*Задание*: реализовать скрипт анализатора логов `log_analyzer.py.py`. \n",
    "\n",
    "__Основная функциональность__: \n",
    "1. Скрипт обрабатывает при запуске последний лог в `LOG_DIR`, в результате работы должен получится отчет как в `report-2017.06.30.html` (для корректной работы нужно будет найти и принести себе на диск `jquery.tablesorter.min.js`). То есть скрипт читает лог, парсит нужные поля, считает необходимую статистику по url'ам и рендерит шаблон `report.html` (в шаблоне нужно только подставить `$table_json`). \n",
    "2. Если удачно обработал, то работу не переделывает при повторном запуске. Готовые отчеты лежат в `REPORT_DIR`. Только самые медленные в среднем, максимум `REPORT_SIZE`, URL'ы попадают в отчет.\n",
    "3. В переменной `config` находится пример конфига по умолчанию. Скрипт должен считывать конфиг из некоего файла (например `/usr/local/etc/log_nalyzer.conf` по умолчанию), где дефолтные опции можно переопределить. \n",
    "4. Скрипту должно быть возможно указать считать конфиг из другого файла, передав его путь через `--config`. Использовать сторонние библиотеки запрещено.\n",
    "\n",
    "__Мониторинг__:\n",
    "1. скрипт должен писать логи через библиотеку logging в формате `'[%(asctime)s] %(levelname).1s %(message)s'` c датой в виде `'%Y.%m.%d %H:%M:%S'`. Допускается только использование уровней `info`, `error` и `exception`. Путь до логфайла указывается в конфиге, если не указан, лог должен писаться в stdout\n",
    "2. по окончнию (успешному) работы, скрипт создает (обновляет) ts-файл по пути, заданному в конфиге (например `/var/tmp/log_nalyzer.ts` по умолчанию). Внутри файлика находится timestamp времени окончания работы, mtime файлика должен быть равен этому таймстемпу.\n",
    "\n",
    "__Тестирование__:\n",
    "1. на скрипт должны быть написаны тесты с использованием библиотеки `unittest` (https://pymotw.com/2/unittest/). Имя скрипта с тестами должно начинаться со слова `test`. Тестируемые кейсы и структура тестов определяется самостоятельно.\n",
    "\n",
    "*Цель задания*: получить (прокачать) навык написания production-ready кода.\n",
    "\n",
    "*Критерии успеха*: задание __обязательно__, критерием успеха является работающий согласно заданию код, для которого написаны тесты, проверено соответствие pep8, написана минимальная документация с примерами запуска (боевого и тестов), в README, например.\n"
   ]
  },
  {
   "cell_type": "code",
   "execution_count": 2,
   "metadata": {
    "collapsed": false
   },
   "outputs": [],
   "source": [
    "# %load log_analyzer.py\n",
    "#!/usr/bin/env python\n",
    "\n",
    "\n",
    "# log_format ui_short '$remote_addr $remote_user $http_x_real_ip [$time_local] \"$request\" '\n",
    "#                     '$status $body_bytes_sent \"$http_referer\" '\n",
    "#                     '\"$http_user_agent\" \"$http_x_forwarded_for\" \"$http_X_REQUEST_ID\" \"$http_X_RB_USER\" '\n",
    "#                     '$request_time';\n",
    "\n",
    "config = {\n",
    "    \"REPORT_SIZE\": 1000,\n",
    "    \"REPORT_DIR\": \"./reports\",\n",
    "    \"LOG_DIR\": \"./log\"\n",
    "}\n",
    "\n",
    "\n",
    "def main():\n",
    "    pass\n",
    "\n",
    "if __name__ == \"__main__\":\n",
    "    main()\n"
   ]
  }
 ],
 "metadata": {
  "kernelspec": {
   "display_name": "Python 3",
   "language": "python",
   "name": "python3"
  },
  "language_info": {
   "codemirror_mode": {
    "name": "ipython",
    "version": 3
   },
   "file_extension": ".py",
   "mimetype": "text/x-python",
   "name": "python",
   "nbconvert_exporter": "python",
   "pygments_lexer": "ipython3",
   "version": "3.6.0"
  }
 },
 "nbformat": 4,
 "nbformat_minor": 1
}
